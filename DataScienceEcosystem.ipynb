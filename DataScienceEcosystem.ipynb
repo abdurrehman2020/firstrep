{
  "cells": [
    {
      "cell_type": "markdown",
      "metadata": {
        "id": "rjCFAYeVLjAc"
      },
      "source": [
        "# Data Science Tools and Ecosystem"
      ]
    },
    {
      "cell_type": "markdown",
      "metadata": {
        "id": "cDWoZeJdLjAf"
      },
      "source": [
        "In this notebook, we'll explore key aspects of the data science ecosystem, including languages, libraries, and tools."
      ]
    },
    {
      "cell_type": "markdown",
      "metadata": {
        "id": "HB90v9O1LjAf"
      },
      "source": [
        "Some popular data science languages include:\n",
        "* Python\n",
        "* R\n",
        "* SQL"
      ]
    },
    {
      "cell_type": "markdown",
      "metadata": {
        "id": "I-w9hqiWLjAg"
      },
      "source": [
        "Key data science libraries:\n",
        "* Pandas\n",
        "* NumPy\n",
        "* Scikit-learn"
      ]
    },
    {
      "cell_type": "markdown",
      "source": [
        "| Data Science Tools |\n",
        "|--------------------|\n",
        "| Jupyter Notebooks  |\n",
        "| RStudio            |\n",
        "| VS Code            |"
      ],
      "metadata": {
        "id": "ZjZfEWHLN7a9"
      }
    },
    {
      "cell_type": "markdown",
      "source": [
        "Let's look at some basic arithmetic expression examples."
      ],
      "metadata": {
        "id": "u3syFmKRN9u0"
      }
    },
    {
      "cell_type": "code",
      "source": [
        "(3 * 4) + 5"
      ],
      "metadata": {
        "colab": {
          "base_uri": "https://localhost:8080/"
        },
        "id": "rogLX-QoOEhU",
        "outputId": "dd08c07a-eb11-4cef-cb80-f0d1b737cf91"
      },
      "execution_count": 1,
      "outputs": [
        {
          "output_type": "execute_result",
          "data": {
            "text/plain": [
              "17"
            ]
          },
          "metadata": {},
          "execution_count": 1
        }
      ]
    },
    {
      "cell_type": "code",
      "source": [
        "minutes = 200\n",
        "hours = minutes / 60\n",
        "print(hours)"
      ],
      "metadata": {
        "colab": {
          "base_uri": "https://localhost:8080/"
        },
        "id": "aYNX1U9gOJB0",
        "outputId": "88e3f0f9-944d-45ac-a28e-ca21e1523dc3"
      },
      "execution_count": 2,
      "outputs": [
        {
          "output_type": "stream",
          "name": "stdout",
          "text": [
            "3.3333333333333335\n"
          ]
        }
      ]
    },
    {
      "cell_type": "markdown",
      "source": [
        "Objectives:\n",
        "* List popular data science languages.\n",
        "* Introduce common data science libraries.\n",
        "* Demonstrate basic arithmetic operations in Python."
      ],
      "metadata": {
        "id": "PTnBHFpEONCM"
      }
    },
    {
      "cell_type": "markdown",
      "source": [
        "Author: Abdur Rehman Riaz"
      ],
      "metadata": {
        "id": "gHQkofA_OQGk"
      }
    }
  ],
  "metadata": {
    "kernelspec": {
      "display_name": "Python 3",
      "language": "python",
      "name": "python3"
    },
    "language_info": {
      "name": "python",
      "version": "3.12.3"
    },
    "colab": {
      "provenance": []
    }
  },
  "nbformat": 4,
  "nbformat_minor": 0
}